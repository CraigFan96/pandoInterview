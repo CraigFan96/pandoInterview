{
 "cells": [
  {
   "cell_type": "code",
   "execution_count": 43,
   "metadata": {
    "collapsed": true
   },
   "outputs": [],
   "source": [
    "from string import ascii_letters\n",
    "import numpy as np\n",
    "import pandas as pd\n",
    "import seaborn as sns\n",
    "import matplotlib.pyplot as plt"
   ]
  },
  {
   "cell_type": "code",
   "execution_count": 44,
   "metadata": {
    "collapsed": true
   },
   "outputs": [],
   "source": [
    "train = pd.read_csv('./train_users_2.csv')\n",
    "test = pd.read_csv('./test_users.csv')\n",
    "ageBuckets = pd.read_csv('./age_gender_bkts.csv')\n",
    "countries = pd.read_csv('./countries.csv')\n",
    "sessions = pd.read_csv('./sessions.csv')"
   ]
  },
  {
   "cell_type": "code",
   "execution_count": 47,
   "metadata": {
    "collapsed": false
   },
   "outputs": [
    {
     "name": "stdout",
     "output_type": "stream",
     "text": [
      "<class 'pandas.core.frame.DataFrame'>\n",
      "Int64Index: 275547 entries, 0 to 62095\n",
      "Data columns (total 5 columns):\n",
      "id                      275547 non-null object\n",
      "gender                  146067 non-null object\n",
      "date_account_created    275547 non-null object\n",
      "age                     158681 non-null float64\n",
      "language                275547 non-null object\n",
      "dtypes: float64(1), object(4)\n",
      "memory usage: 12.6+ MB\n",
      "<class 'pandas.core.frame.DataFrame'>\n",
      "RangeIndex: 213451 entries, 0 to 213450\n",
      "Data columns (total 16 columns):\n",
      "id                         213451 non-null object\n",
      "date_account_created       213451 non-null object\n",
      "timestamp_first_active     213451 non-null int64\n",
      "date_first_booking         88908 non-null object\n",
      "gender                     213451 non-null object\n",
      "age                        125461 non-null float64\n",
      "signup_method              213451 non-null object\n",
      "signup_flow                213451 non-null int64\n",
      "language                   213451 non-null object\n",
      "affiliate_channel          213451 non-null object\n",
      "affiliate_provider         213451 non-null object\n",
      "first_affiliate_tracked    207386 non-null object\n",
      "signup_app                 213451 non-null object\n",
      "first_device_type          213451 non-null object\n",
      "first_browser              213451 non-null object\n",
      "country_destination        213451 non-null object\n",
      "dtypes: float64(1), int64(2), object(13)\n",
      "memory usage: 26.1+ MB\n"
     ]
    }
   ],
   "source": [
    "df_train = train[['id', 'gender' ,'date_account_created', 'age', 'language']].copy()\n",
    "df_test = test[['id', 'gender' ,'date_account_created', 'age', 'language']].copy()\n",
    "\n",
    "\n",
    "all_data = pd.concat((df_train, df_test))\n",
    "\n",
    "all_data['gender'].replace('-unknown-',np.nan, inplace=True)\n",
    "\n",
    "all_data.isnull().sum()\n",
    "all_data.info()\n",
    "\n",
    "\n",
    "all_data['gender']=all_data['gender'].map({\"FEMALE\":1, \"MALE\":0})\n",
    "avg = all_data['gender'].median()\n",
    "all_data['gender'] = all_data['gender'].replace(np.nan, avg)\n",
    "train.info()\n",
    "\n",
    "\n",
    "ageMedian = all_data['age'].median()\n",
    "all_data['age'] = all_data['age'].replace(np.nan, ageMedian)\n",
    "\n",
    "\n",
    "from sklearn.preprocessing import LabelEncoder\n",
    "languageEncoder = LabelEncoder()\n",
    "all_data['language'] = languageEncoder.fit_transform(all_data['language'])\n",
    "\n",
    "'''\n",
    "Now, it is time to merge two columns and data wrangling part\n",
    "'''\n",
    "\n",
    "X_train = all_data[:train.shape[0]]\n",
    "X_train = X_train.drop(['id', 'date_account_created'], axis = 1)\n",
    "X_test = all_data[train.shape[0]:]\n",
    "y = train.country_destination\n",
    "\n",
    "country_num_dic = {'NDF': 0, 'US': 1, 'other': 2, 'FR': 3, 'IT': 4, 'GB': 5, 'ES': 6, 'CA': 7, 'DE': 8, 'NL': 9, 'AU': 10, 'PT': 11}\n",
    "num_country_dic = {y:x for x,y in country_num_dic.items()}\n",
    "\n",
    "\n",
    "y = y.map(country_num_dic)\n",
    "y_meadina = y.median()\n",
    "\n",
    "y = y.replace(np.nan, y.median())\n",
    "\n",
    "from sklearn.tree import DecisionTreeRegressor\n",
    "from sklearn.ensemble import RandomForestRegressor\n",
    "from sklearn.ensemble import ExtraTreesRegressor\n",
    "\n",
    "reg = ExtraTreesRegressor()\n",
    "reg.fit(X_train, y)#train, y\n",
    "X_test = X_test.drop(['id', 'date_account_created'], axis=1)\n",
    "pred = reg.predict(X_test)#test\n",
    "\n",
    "Y_pred = pred.astype(int)\n",
    "\n",
    "\n",
    "Y_pred = pd.Series(Y_pred).map(num_country_dic)"
   ]
  },
  {
   "cell_type": "code",
   "execution_count": 48,
   "metadata": {
    "collapsed": false
   },
   "outputs": [],
   "source": [
    "submission = pd.DataFrame({'id': test.id, 'country':Y_pred})\n",
    "submission.to_csv('submission.csv', index=False)"
   ]
  },
  {
   "cell_type": "code",
   "execution_count": null,
   "metadata": {
    "collapsed": true
   },
   "outputs": [],
   "source": []
  }
 ],
 "metadata": {
  "kernelspec": {
   "display_name": "Python 3",
   "language": "python",
   "name": "python3"
  },
  "language_info": {
   "codemirror_mode": {
    "name": "ipython",
    "version": 3
   },
   "file_extension": ".py",
   "mimetype": "text/x-python",
   "name": "python",
   "nbconvert_exporter": "python",
   "pygments_lexer": "ipython3",
   "version": "3.6.8"
  }
 },
 "nbformat": 4,
 "nbformat_minor": 2
}
